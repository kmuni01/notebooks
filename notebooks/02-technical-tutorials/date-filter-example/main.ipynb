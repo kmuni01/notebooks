{
 "cells": [
  {
   "cell_type": "code",
   "execution_count": 1,
   "id": "392f09bc-9861-4331-a548-3a78b8fc276b",
   "metadata": {},
   "outputs": [],
   "source": [
    "import atoti as tt"
   ]
  },
  {
   "cell_type": "code",
   "execution_count": 2,
   "id": "6bb4a6a6-98da-45db-ba37-a5556acbad7c",
   "metadata": {},
   "outputs": [],
   "source": [
    "session = tt.Session()"
   ]
  },
  {
   "cell_type": "code",
   "execution_count": 3,
   "id": "a3e79bd3-31b1-475d-98fd-0a06305ae727",
   "metadata": {},
   "outputs": [],
   "source": [
    "# Make sure the csv file is in the correct format.\n",
    "\n",
    "table = session.read_csv(\n",
    "    \"date-filter-use-case.csv\",\n",
    "    table_name=\"date-filter-use-case\",\n",
    "    separator=\",\",\n",
    "    keys=[\"DATE\"],\n",
    "    types={\"DATE\": tt.type.LOCAL_DATE, \"DATETXT\": tt.type.LOCAL_DATE},\n",
    "    date_patterns={\"DATE\": \"dd-MM-yyyy\", \"DATETXT\": \"dd-MM-yyyy\"},\n",
    ")"
   ]
  },
  {
   "cell_type": "code",
   "execution_count": 4,
   "id": "55e30129-6835-48a3-8a81-4b5ba6613794",
   "metadata": {},
   "outputs": [
    {
     "data": {
      "text/html": [
       "<div>\n",
       "<style scoped>\n",
       "    .dataframe tbody tr th:only-of-type {\n",
       "        vertical-align: middle;\n",
       "    }\n",
       "\n",
       "    .dataframe tbody tr th {\n",
       "        vertical-align: top;\n",
       "    }\n",
       "\n",
       "    .dataframe thead th {\n",
       "        text-align: right;\n",
       "    }\n",
       "</style>\n",
       "<table border=\"1\" class=\"dataframe\">\n",
       "  <thead>\n",
       "    <tr style=\"text-align: right;\">\n",
       "      <th></th>\n",
       "      <th>DATETXT</th>\n",
       "      <th>Sales</th>\n",
       "    </tr>\n",
       "    <tr>\n",
       "      <th>DATE</th>\n",
       "      <th></th>\n",
       "      <th></th>\n",
       "    </tr>\n",
       "  </thead>\n",
       "  <tbody>\n",
       "    <tr>\n",
       "      <th>2022-11-01</th>\n",
       "      <td>2022-11-01</td>\n",
       "      <td>100.0</td>\n",
       "    </tr>\n",
       "    <tr>\n",
       "      <th>2023-11-01</th>\n",
       "      <td>2023-11-01</td>\n",
       "      <td>100.0</td>\n",
       "    </tr>\n",
       "    <tr>\n",
       "      <th>2022-12-01</th>\n",
       "      <td>2022-12-01</td>\n",
       "      <td>100.0</td>\n",
       "    </tr>\n",
       "    <tr>\n",
       "      <th>2023-12-01</th>\n",
       "      <td>2023-12-01</td>\n",
       "      <td>100.0</td>\n",
       "    </tr>\n",
       "    <tr>\n",
       "      <th>2022-01-01</th>\n",
       "      <td>2022-01-01</td>\n",
       "      <td>100.0</td>\n",
       "    </tr>\n",
       "  </tbody>\n",
       "</table>\n",
       "</div>"
      ],
      "text/plain": [
       "              DATETXT  Sales\n",
       "DATE                        \n",
       "2022-11-01 2022-11-01  100.0\n",
       "2023-11-01 2023-11-01  100.0\n",
       "2022-12-01 2022-12-01  100.0\n",
       "2023-12-01 2023-12-01  100.0\n",
       "2022-01-01 2022-01-01  100.0"
      ]
     },
     "execution_count": 4,
     "metadata": {},
     "output_type": "execute_result"
    }
   ],
   "source": [
    "table.head(5)"
   ]
  },
  {
   "cell_type": "code",
   "execution_count": 5,
   "id": "ed5828c6-416e-4b8a-a242-365f9d2309dc",
   "metadata": {},
   "outputs": [],
   "source": [
    "cube = session.create_cube(table, mode=\"auto\")\n",
    "l, m = cube.levels, cube.measures"
   ]
  },
  {
   "cell_type": "code",
   "execution_count": 6,
   "id": "0f410b37-0d38-45b5-b0d6-dd97618937ef",
   "metadata": {},
   "outputs": [],
   "source": [
    "cube.create_date_hierarchy(\n",
    "    \"Date Parts\",\n",
    "    column=table[\"DATE\"],\n",
    "    levels={\"Year\": \"y\", \"Quarter\": \"QQQ\", \"Month\": \"MMMM\", \"Day\": \"d\"},\n",
    ")"
   ]
  },
  {
   "cell_type": "code",
   "execution_count": 7,
   "id": "24fb73c5-2894-4c77-96f8-019310d884aa",
   "metadata": {},
   "outputs": [],
   "source": [
    "h = cube.hierarchies\n",
    "h[\"Date Parts\"] = {**h[\"Date Parts\"].levels, \"DATE\": table[\"DATE\"]}"
   ]
  },
  {
   "cell_type": "code",
   "execution_count": 8,
   "id": "d0e881dc-7f2a-4cdc-a40c-27e593e56690",
   "metadata": {},
   "outputs": [],
   "source": [
    "# Ensure the months are in order. \n",
    "\n",
    "l[\"Month\"].order = tt.CustomOrder(\n",
    "    first_elements=[\n",
    "        \"January\",\n",
    "        \"February\",\n",
    "        \"March\",\n",
    "        \"April\",\n",
    "        \"May\",\n",
    "        \"June\",\n",
    "        \"July\",\n",
    "        \"August\",\n",
    "        \"September\",\n",
    "        \"October\",\n",
    "        \"November\",\n",
    "        \"December\",\n",
    "    ]\n",
    ")"
   ]
  },
  {
   "cell_type": "code",
   "execution_count": 9,
   "id": "92e1335b-f2a9-4b9f-99ef-30e926b3b8f4",
   "metadata": {},
   "outputs": [
    {
     "data": {
      "application/vnd.atoti.convert-query-result-to-widget.v0+json": {
       "mdx": "SELECT {[Measures].[Sales.SUM]} ON COLUMNS, NON EMPTY Hierarchize(Descendants({[date-filter-use-case].[Date Parts].[AllMember]}, 5, SELF_AND_BEFORE)) ON ROWS FROM [date-filter-use-case]",
       "sessionId": "1668710324_CE0FCZ",
       "widgetCreationCode": "session.visualize()"
      },
      "text/html": [
       "<div>\n",
       "<style scoped>\n",
       "    .dataframe tbody tr th:only-of-type {\n",
       "        vertical-align: middle;\n",
       "    }\n",
       "\n",
       "    .dataframe tbody tr th {\n",
       "        vertical-align: top;\n",
       "    }\n",
       "\n",
       "    .dataframe thead th {\n",
       "        text-align: right;\n",
       "    }\n",
       "</style>\n",
       "<table border=\"1\" class=\"dataframe\">\n",
       "  <thead>\n",
       "    <tr style=\"text-align: right;\">\n",
       "      <th></th>\n",
       "      <th></th>\n",
       "      <th></th>\n",
       "      <th></th>\n",
       "      <th></th>\n",
       "      <th>Sales.SUM</th>\n",
       "    </tr>\n",
       "    <tr>\n",
       "      <th>Year</th>\n",
       "      <th>Quarter</th>\n",
       "      <th>Month</th>\n",
       "      <th>Day</th>\n",
       "      <th>DATE</th>\n",
       "      <th></th>\n",
       "    </tr>\n",
       "  </thead>\n",
       "  <tbody>\n",
       "    <tr>\n",
       "      <th>Total</th>\n",
       "      <th></th>\n",
       "      <th></th>\n",
       "      <th></th>\n",
       "      <th></th>\n",
       "      <td>2,400.00</td>\n",
       "    </tr>\n",
       "    <tr>\n",
       "      <th rowspan=\"4\" valign=\"top\">2022</th>\n",
       "      <th></th>\n",
       "      <th></th>\n",
       "      <th></th>\n",
       "      <th></th>\n",
       "      <td>1,200.00</td>\n",
       "    </tr>\n",
       "    <tr>\n",
       "      <th rowspan=\"3\" valign=\"top\">Q1</th>\n",
       "      <th></th>\n",
       "      <th></th>\n",
       "      <th></th>\n",
       "      <td>300.00</td>\n",
       "    </tr>\n",
       "    <tr>\n",
       "      <th rowspan=\"2\" valign=\"top\">January</th>\n",
       "      <th></th>\n",
       "      <th></th>\n",
       "      <td>100.00</td>\n",
       "    </tr>\n",
       "    <tr>\n",
       "      <th>1</th>\n",
       "      <th></th>\n",
       "      <td>100.00</td>\n",
       "    </tr>\n",
       "    <tr>\n",
       "      <th>...</th>\n",
       "      <th>...</th>\n",
       "      <th>...</th>\n",
       "      <th>...</th>\n",
       "      <th>...</th>\n",
       "      <td>...</td>\n",
       "    </tr>\n",
       "    <tr>\n",
       "      <th rowspan=\"5\" valign=\"top\">2023</th>\n",
       "      <th rowspan=\"5\" valign=\"top\">Q4</th>\n",
       "      <th rowspan=\"2\" valign=\"top\">November</th>\n",
       "      <th rowspan=\"2\" valign=\"top\">1</th>\n",
       "      <th></th>\n",
       "      <td>100.00</td>\n",
       "    </tr>\n",
       "    <tr>\n",
       "      <th>2023-11-01</th>\n",
       "      <td>100.00</td>\n",
       "    </tr>\n",
       "    <tr>\n",
       "      <th rowspan=\"3\" valign=\"top\">December</th>\n",
       "      <th></th>\n",
       "      <th></th>\n",
       "      <td>100.00</td>\n",
       "    </tr>\n",
       "    <tr>\n",
       "      <th rowspan=\"2\" valign=\"top\">1</th>\n",
       "      <th></th>\n",
       "      <td>100.00</td>\n",
       "    </tr>\n",
       "    <tr>\n",
       "      <th>2023-12-01</th>\n",
       "      <td>100.00</td>\n",
       "    </tr>\n",
       "  </tbody>\n",
       "</table>\n",
       "<p>83 rows × 1 columns</p>\n",
       "</div>"
      ],
      "text/plain": [
       "                                      Sales.SUM\n",
       "Year  Quarter Month    Day DATE                \n",
       "Total                                  2,400.00\n",
       "2022                                   1,200.00\n",
       "      Q1                                 300.00\n",
       "              January                    100.00\n",
       "                       1                 100.00\n",
       "...                                         ...\n",
       "2023  Q4      November 1                 100.00\n",
       "                           2023-11-01    100.00\n",
       "              December                   100.00\n",
       "                       1                 100.00\n",
       "                           2023-12-01    100.00\n",
       "\n",
       "[83 rows x 1 columns]"
      ]
     },
     "execution_count": 9,
     "metadata": {},
     "output_type": "execute_result"
    }
   ],
   "source": [
    "levels = ([l[\"Date Parts\", \"DATE\"]],)\n",
    "cube.query(\n",
    "    m[\"Sales.SUM\"],\n",
    "    include_totals=True,\n",
    "    levels=[l[\"Date Parts\", \"DATE\"]],\n",
    ")"
   ]
  },
  {
   "cell_type": "code",
   "execution_count": 10,
   "id": "b0fba42a-93ae-45f4-b6e4-6f562f2d1303",
   "metadata": {},
   "outputs": [
    {
     "data": {
      "text/plain": [
       "50544"
      ]
     },
     "execution_count": 10,
     "metadata": {},
     "output_type": "execute_result"
    }
   ],
   "source": [
    "# You can see the Date Filters in Excel.\n",
    "session.port"
   ]
  },
  {
   "cell_type": "code",
   "execution_count": null,
   "id": "22cc4495-6159-436d-aa8b-52ec2b49b6ef",
   "metadata": {},
   "outputs": [],
   "source": []
  },
  {
   "cell_type": "code",
   "execution_count": null,
   "id": "4aa35f23-317a-4f19-8261-506298574bf4",
   "metadata": {},
   "outputs": [],
   "source": []
  }
 ],
 "metadata": {
  "kernelspec": {
   "display_name": "Python 3 (ipykernel)",
   "language": "python",
   "name": "python3"
  },
  "language_info": {
   "codemirror_mode": {
    "name": "ipython",
    "version": 3
   },
   "file_extension": ".py",
   "mimetype": "text/x-python",
   "name": "python",
   "nbconvert_exporter": "python",
   "pygments_lexer": "ipython3",
   "version": "3.10.2"
  }
 },
 "nbformat": 4,
 "nbformat_minor": 5
}
